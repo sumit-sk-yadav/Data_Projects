{
 "cells": [
  {
   "cell_type": "code",
   "execution_count": 1,
   "metadata": {},
   "outputs": [],
   "source": [
    "# Importing basic libraries\n",
    "import pandas as pd\n",
    "import seaborn as sns\n",
    "import warnings\n",
    "warnings.filterwarnings(\"ignore\")"
   ]
  },
  {
   "cell_type": "code",
   "execution_count": 2,
   "metadata": {},
   "outputs": [],
   "source": [
    "# Loading data \n",
    "data_path = \"/Student Depression Dataset.csv\"\n",
    "data = pd.read_csv(data_path)"
   ]
  },
  {
   "cell_type": "markdown",
   "metadata": {},
   "source": [
    "### ___DATA EXPLORATION___"
   ]
  },
  {
   "cell_type": "code",
   "execution_count": 3,
   "metadata": {},
   "outputs": [
    {
     "data": {
      "text/plain": [
       "(27901, 18)"
      ]
     },
     "execution_count": 3,
     "metadata": {},
     "output_type": "execute_result"
    }
   ],
   "source": [
    "data.shape"
   ]
  },
  {
   "cell_type": "code",
   "execution_count": 4,
   "metadata": {},
   "outputs": [
    {
     "data": {
      "text/html": [
       "<div>\n",
       "<style scoped>\n",
       "    .dataframe tbody tr th:only-of-type {\n",
       "        vertical-align: middle;\n",
       "    }\n",
       "\n",
       "    .dataframe tbody tr th {\n",
       "        vertical-align: top;\n",
       "    }\n",
       "\n",
       "    .dataframe thead th {\n",
       "        text-align: right;\n",
       "    }\n",
       "</style>\n",
       "<table border=\"1\" class=\"dataframe\">\n",
       "  <thead>\n",
       "    <tr style=\"text-align: right;\">\n",
       "      <th></th>\n",
       "      <th>id</th>\n",
       "      <th>Gender</th>\n",
       "      <th>Age</th>\n",
       "      <th>City</th>\n",
       "      <th>Profession</th>\n",
       "      <th>Academic Pressure</th>\n",
       "      <th>Work Pressure</th>\n",
       "      <th>CGPA</th>\n",
       "      <th>Study Satisfaction</th>\n",
       "      <th>Job Satisfaction</th>\n",
       "      <th>Sleep Duration</th>\n",
       "      <th>Dietary Habits</th>\n",
       "      <th>Degree</th>\n",
       "      <th>Have you ever had suicidal thoughts ?</th>\n",
       "      <th>Work/Study Hours</th>\n",
       "      <th>Financial Stress</th>\n",
       "      <th>Family History of Mental Illness</th>\n",
       "      <th>Depression</th>\n",
       "    </tr>\n",
       "  </thead>\n",
       "  <tbody>\n",
       "    <tr>\n",
       "      <th>0</th>\n",
       "      <td>2</td>\n",
       "      <td>Male</td>\n",
       "      <td>33.0</td>\n",
       "      <td>Visakhapatnam</td>\n",
       "      <td>Student</td>\n",
       "      <td>5.0</td>\n",
       "      <td>0.0</td>\n",
       "      <td>8.97</td>\n",
       "      <td>2.0</td>\n",
       "      <td>0.0</td>\n",
       "      <td>5-6 hours</td>\n",
       "      <td>Healthy</td>\n",
       "      <td>B.Pharm</td>\n",
       "      <td>Yes</td>\n",
       "      <td>3.0</td>\n",
       "      <td>1.0</td>\n",
       "      <td>No</td>\n",
       "      <td>1</td>\n",
       "    </tr>\n",
       "    <tr>\n",
       "      <th>1</th>\n",
       "      <td>8</td>\n",
       "      <td>Female</td>\n",
       "      <td>24.0</td>\n",
       "      <td>Bangalore</td>\n",
       "      <td>Student</td>\n",
       "      <td>2.0</td>\n",
       "      <td>0.0</td>\n",
       "      <td>5.90</td>\n",
       "      <td>5.0</td>\n",
       "      <td>0.0</td>\n",
       "      <td>5-6 hours</td>\n",
       "      <td>Moderate</td>\n",
       "      <td>BSc</td>\n",
       "      <td>No</td>\n",
       "      <td>3.0</td>\n",
       "      <td>2.0</td>\n",
       "      <td>Yes</td>\n",
       "      <td>0</td>\n",
       "    </tr>\n",
       "    <tr>\n",
       "      <th>2</th>\n",
       "      <td>26</td>\n",
       "      <td>Male</td>\n",
       "      <td>31.0</td>\n",
       "      <td>Srinagar</td>\n",
       "      <td>Student</td>\n",
       "      <td>3.0</td>\n",
       "      <td>0.0</td>\n",
       "      <td>7.03</td>\n",
       "      <td>5.0</td>\n",
       "      <td>0.0</td>\n",
       "      <td>Less than 5 hours</td>\n",
       "      <td>Healthy</td>\n",
       "      <td>BA</td>\n",
       "      <td>No</td>\n",
       "      <td>9.0</td>\n",
       "      <td>1.0</td>\n",
       "      <td>Yes</td>\n",
       "      <td>0</td>\n",
       "    </tr>\n",
       "    <tr>\n",
       "      <th>3</th>\n",
       "      <td>30</td>\n",
       "      <td>Female</td>\n",
       "      <td>28.0</td>\n",
       "      <td>Varanasi</td>\n",
       "      <td>Student</td>\n",
       "      <td>3.0</td>\n",
       "      <td>0.0</td>\n",
       "      <td>5.59</td>\n",
       "      <td>2.0</td>\n",
       "      <td>0.0</td>\n",
       "      <td>7-8 hours</td>\n",
       "      <td>Moderate</td>\n",
       "      <td>BCA</td>\n",
       "      <td>Yes</td>\n",
       "      <td>4.0</td>\n",
       "      <td>5.0</td>\n",
       "      <td>Yes</td>\n",
       "      <td>1</td>\n",
       "    </tr>\n",
       "    <tr>\n",
       "      <th>4</th>\n",
       "      <td>32</td>\n",
       "      <td>Female</td>\n",
       "      <td>25.0</td>\n",
       "      <td>Jaipur</td>\n",
       "      <td>Student</td>\n",
       "      <td>4.0</td>\n",
       "      <td>0.0</td>\n",
       "      <td>8.13</td>\n",
       "      <td>3.0</td>\n",
       "      <td>0.0</td>\n",
       "      <td>5-6 hours</td>\n",
       "      <td>Moderate</td>\n",
       "      <td>M.Tech</td>\n",
       "      <td>Yes</td>\n",
       "      <td>1.0</td>\n",
       "      <td>1.0</td>\n",
       "      <td>No</td>\n",
       "      <td>0</td>\n",
       "    </tr>\n",
       "    <tr>\n",
       "      <th>5</th>\n",
       "      <td>33</td>\n",
       "      <td>Male</td>\n",
       "      <td>29.0</td>\n",
       "      <td>Pune</td>\n",
       "      <td>Student</td>\n",
       "      <td>2.0</td>\n",
       "      <td>0.0</td>\n",
       "      <td>5.70</td>\n",
       "      <td>3.0</td>\n",
       "      <td>0.0</td>\n",
       "      <td>Less than 5 hours</td>\n",
       "      <td>Healthy</td>\n",
       "      <td>PhD</td>\n",
       "      <td>No</td>\n",
       "      <td>4.0</td>\n",
       "      <td>1.0</td>\n",
       "      <td>No</td>\n",
       "      <td>0</td>\n",
       "    </tr>\n",
       "    <tr>\n",
       "      <th>6</th>\n",
       "      <td>52</td>\n",
       "      <td>Male</td>\n",
       "      <td>30.0</td>\n",
       "      <td>Thane</td>\n",
       "      <td>Student</td>\n",
       "      <td>3.0</td>\n",
       "      <td>0.0</td>\n",
       "      <td>9.54</td>\n",
       "      <td>4.0</td>\n",
       "      <td>0.0</td>\n",
       "      <td>7-8 hours</td>\n",
       "      <td>Healthy</td>\n",
       "      <td>BSc</td>\n",
       "      <td>No</td>\n",
       "      <td>1.0</td>\n",
       "      <td>2.0</td>\n",
       "      <td>No</td>\n",
       "      <td>0</td>\n",
       "    </tr>\n",
       "    <tr>\n",
       "      <th>7</th>\n",
       "      <td>56</td>\n",
       "      <td>Female</td>\n",
       "      <td>30.0</td>\n",
       "      <td>Chennai</td>\n",
       "      <td>Student</td>\n",
       "      <td>2.0</td>\n",
       "      <td>0.0</td>\n",
       "      <td>8.04</td>\n",
       "      <td>4.0</td>\n",
       "      <td>0.0</td>\n",
       "      <td>Less than 5 hours</td>\n",
       "      <td>Unhealthy</td>\n",
       "      <td>Class 12</td>\n",
       "      <td>No</td>\n",
       "      <td>0.0</td>\n",
       "      <td>1.0</td>\n",
       "      <td>Yes</td>\n",
       "      <td>0</td>\n",
       "    </tr>\n",
       "    <tr>\n",
       "      <th>8</th>\n",
       "      <td>59</td>\n",
       "      <td>Male</td>\n",
       "      <td>28.0</td>\n",
       "      <td>Nagpur</td>\n",
       "      <td>Student</td>\n",
       "      <td>3.0</td>\n",
       "      <td>0.0</td>\n",
       "      <td>9.79</td>\n",
       "      <td>1.0</td>\n",
       "      <td>0.0</td>\n",
       "      <td>7-8 hours</td>\n",
       "      <td>Moderate</td>\n",
       "      <td>B.Ed</td>\n",
       "      <td>Yes</td>\n",
       "      <td>12.0</td>\n",
       "      <td>3.0</td>\n",
       "      <td>No</td>\n",
       "      <td>1</td>\n",
       "    </tr>\n",
       "    <tr>\n",
       "      <th>9</th>\n",
       "      <td>62</td>\n",
       "      <td>Male</td>\n",
       "      <td>31.0</td>\n",
       "      <td>Nashik</td>\n",
       "      <td>Student</td>\n",
       "      <td>2.0</td>\n",
       "      <td>0.0</td>\n",
       "      <td>8.38</td>\n",
       "      <td>3.0</td>\n",
       "      <td>0.0</td>\n",
       "      <td>Less than 5 hours</td>\n",
       "      <td>Moderate</td>\n",
       "      <td>LLB</td>\n",
       "      <td>Yes</td>\n",
       "      <td>2.0</td>\n",
       "      <td>5.0</td>\n",
       "      <td>No</td>\n",
       "      <td>1</td>\n",
       "    </tr>\n",
       "  </tbody>\n",
       "</table>\n",
       "</div>"
      ],
      "text/plain": [
       "   id  Gender   Age           City Profession  Academic Pressure  \\\n",
       "0   2    Male  33.0  Visakhapatnam    Student                5.0   \n",
       "1   8  Female  24.0      Bangalore    Student                2.0   \n",
       "2  26    Male  31.0       Srinagar    Student                3.0   \n",
       "3  30  Female  28.0       Varanasi    Student                3.0   \n",
       "4  32  Female  25.0         Jaipur    Student                4.0   \n",
       "5  33    Male  29.0           Pune    Student                2.0   \n",
       "6  52    Male  30.0          Thane    Student                3.0   \n",
       "7  56  Female  30.0        Chennai    Student                2.0   \n",
       "8  59    Male  28.0         Nagpur    Student                3.0   \n",
       "9  62    Male  31.0         Nashik    Student                2.0   \n",
       "\n",
       "   Work Pressure  CGPA  Study Satisfaction  Job Satisfaction  \\\n",
       "0            0.0  8.97                 2.0               0.0   \n",
       "1            0.0  5.90                 5.0               0.0   \n",
       "2            0.0  7.03                 5.0               0.0   \n",
       "3            0.0  5.59                 2.0               0.0   \n",
       "4            0.0  8.13                 3.0               0.0   \n",
       "5            0.0  5.70                 3.0               0.0   \n",
       "6            0.0  9.54                 4.0               0.0   \n",
       "7            0.0  8.04                 4.0               0.0   \n",
       "8            0.0  9.79                 1.0               0.0   \n",
       "9            0.0  8.38                 3.0               0.0   \n",
       "\n",
       "      Sleep Duration Dietary Habits    Degree  \\\n",
       "0          5-6 hours        Healthy   B.Pharm   \n",
       "1          5-6 hours       Moderate       BSc   \n",
       "2  Less than 5 hours        Healthy        BA   \n",
       "3          7-8 hours       Moderate       BCA   \n",
       "4          5-6 hours       Moderate    M.Tech   \n",
       "5  Less than 5 hours        Healthy       PhD   \n",
       "6          7-8 hours        Healthy       BSc   \n",
       "7  Less than 5 hours      Unhealthy  Class 12   \n",
       "8          7-8 hours       Moderate      B.Ed   \n",
       "9  Less than 5 hours       Moderate       LLB   \n",
       "\n",
       "  Have you ever had suicidal thoughts ?  Work/Study Hours  Financial Stress  \\\n",
       "0                                   Yes               3.0               1.0   \n",
       "1                                    No               3.0               2.0   \n",
       "2                                    No               9.0               1.0   \n",
       "3                                   Yes               4.0               5.0   \n",
       "4                                   Yes               1.0               1.0   \n",
       "5                                    No               4.0               1.0   \n",
       "6                                    No               1.0               2.0   \n",
       "7                                    No               0.0               1.0   \n",
       "8                                   Yes              12.0               3.0   \n",
       "9                                   Yes               2.0               5.0   \n",
       "\n",
       "  Family History of Mental Illness  Depression  \n",
       "0                               No           1  \n",
       "1                              Yes           0  \n",
       "2                              Yes           0  \n",
       "3                              Yes           1  \n",
       "4                               No           0  \n",
       "5                               No           0  \n",
       "6                               No           0  \n",
       "7                              Yes           0  \n",
       "8                               No           1  \n",
       "9                               No           1  "
      ]
     },
     "execution_count": 4,
     "metadata": {},
     "output_type": "execute_result"
    }
   ],
   "source": [
    "data.head(10)"
   ]
  },
  {
   "cell_type": "code",
   "execution_count": 5,
   "metadata": {},
   "outputs": [
    {
     "data": {
      "text/html": [
       "<div>\n",
       "<style scoped>\n",
       "    .dataframe tbody tr th:only-of-type {\n",
       "        vertical-align: middle;\n",
       "    }\n",
       "\n",
       "    .dataframe tbody tr th {\n",
       "        vertical-align: top;\n",
       "    }\n",
       "\n",
       "    .dataframe thead th {\n",
       "        text-align: right;\n",
       "    }\n",
       "</style>\n",
       "<table border=\"1\" class=\"dataframe\">\n",
       "  <thead>\n",
       "    <tr style=\"text-align: right;\">\n",
       "      <th></th>\n",
       "      <th>id</th>\n",
       "      <th>Gender</th>\n",
       "      <th>Age</th>\n",
       "      <th>City</th>\n",
       "      <th>Profession</th>\n",
       "      <th>Academic Pressure</th>\n",
       "      <th>Work Pressure</th>\n",
       "      <th>CGPA</th>\n",
       "      <th>Study Satisfaction</th>\n",
       "      <th>Job Satisfaction</th>\n",
       "      <th>Sleep Duration</th>\n",
       "      <th>Dietary Habits</th>\n",
       "      <th>Degree</th>\n",
       "      <th>Have you ever had suicidal thoughts ?</th>\n",
       "      <th>Work/Study Hours</th>\n",
       "      <th>Financial Stress</th>\n",
       "      <th>Family History of Mental Illness</th>\n",
       "      <th>Depression</th>\n",
       "    </tr>\n",
       "  </thead>\n",
       "  <tbody>\n",
       "    <tr>\n",
       "      <th>count</th>\n",
       "      <td>27901.000000</td>\n",
       "      <td>27901</td>\n",
       "      <td>27901.000000</td>\n",
       "      <td>27901</td>\n",
       "      <td>27901</td>\n",
       "      <td>27901.000000</td>\n",
       "      <td>27901.000000</td>\n",
       "      <td>27901.000000</td>\n",
       "      <td>27901.000000</td>\n",
       "      <td>27901.000000</td>\n",
       "      <td>27901</td>\n",
       "      <td>27901</td>\n",
       "      <td>27901</td>\n",
       "      <td>27901</td>\n",
       "      <td>27901.000000</td>\n",
       "      <td>27898.000000</td>\n",
       "      <td>27901</td>\n",
       "      <td>27901.000000</td>\n",
       "    </tr>\n",
       "    <tr>\n",
       "      <th>unique</th>\n",
       "      <td>NaN</td>\n",
       "      <td>2</td>\n",
       "      <td>NaN</td>\n",
       "      <td>52</td>\n",
       "      <td>14</td>\n",
       "      <td>NaN</td>\n",
       "      <td>NaN</td>\n",
       "      <td>NaN</td>\n",
       "      <td>NaN</td>\n",
       "      <td>NaN</td>\n",
       "      <td>5</td>\n",
       "      <td>4</td>\n",
       "      <td>28</td>\n",
       "      <td>2</td>\n",
       "      <td>NaN</td>\n",
       "      <td>NaN</td>\n",
       "      <td>2</td>\n",
       "      <td>NaN</td>\n",
       "    </tr>\n",
       "    <tr>\n",
       "      <th>top</th>\n",
       "      <td>NaN</td>\n",
       "      <td>Male</td>\n",
       "      <td>NaN</td>\n",
       "      <td>Kalyan</td>\n",
       "      <td>Student</td>\n",
       "      <td>NaN</td>\n",
       "      <td>NaN</td>\n",
       "      <td>NaN</td>\n",
       "      <td>NaN</td>\n",
       "      <td>NaN</td>\n",
       "      <td>Less than 5 hours</td>\n",
       "      <td>Unhealthy</td>\n",
       "      <td>Class 12</td>\n",
       "      <td>Yes</td>\n",
       "      <td>NaN</td>\n",
       "      <td>NaN</td>\n",
       "      <td>No</td>\n",
       "      <td>NaN</td>\n",
       "    </tr>\n",
       "    <tr>\n",
       "      <th>freq</th>\n",
       "      <td>NaN</td>\n",
       "      <td>15547</td>\n",
       "      <td>NaN</td>\n",
       "      <td>1570</td>\n",
       "      <td>27870</td>\n",
       "      <td>NaN</td>\n",
       "      <td>NaN</td>\n",
       "      <td>NaN</td>\n",
       "      <td>NaN</td>\n",
       "      <td>NaN</td>\n",
       "      <td>8310</td>\n",
       "      <td>10317</td>\n",
       "      <td>6080</td>\n",
       "      <td>17656</td>\n",
       "      <td>NaN</td>\n",
       "      <td>NaN</td>\n",
       "      <td>14398</td>\n",
       "      <td>NaN</td>\n",
       "    </tr>\n",
       "    <tr>\n",
       "      <th>mean</th>\n",
       "      <td>70442.149421</td>\n",
       "      <td>NaN</td>\n",
       "      <td>25.822300</td>\n",
       "      <td>NaN</td>\n",
       "      <td>NaN</td>\n",
       "      <td>3.141214</td>\n",
       "      <td>0.000430</td>\n",
       "      <td>7.656104</td>\n",
       "      <td>2.943837</td>\n",
       "      <td>0.000681</td>\n",
       "      <td>NaN</td>\n",
       "      <td>NaN</td>\n",
       "      <td>NaN</td>\n",
       "      <td>NaN</td>\n",
       "      <td>7.156984</td>\n",
       "      <td>3.139867</td>\n",
       "      <td>NaN</td>\n",
       "      <td>0.585499</td>\n",
       "    </tr>\n",
       "    <tr>\n",
       "      <th>std</th>\n",
       "      <td>40641.175216</td>\n",
       "      <td>NaN</td>\n",
       "      <td>4.905687</td>\n",
       "      <td>NaN</td>\n",
       "      <td>NaN</td>\n",
       "      <td>1.381465</td>\n",
       "      <td>0.043992</td>\n",
       "      <td>1.470707</td>\n",
       "      <td>1.361148</td>\n",
       "      <td>0.044394</td>\n",
       "      <td>NaN</td>\n",
       "      <td>NaN</td>\n",
       "      <td>NaN</td>\n",
       "      <td>NaN</td>\n",
       "      <td>3.707642</td>\n",
       "      <td>1.437347</td>\n",
       "      <td>NaN</td>\n",
       "      <td>0.492645</td>\n",
       "    </tr>\n",
       "    <tr>\n",
       "      <th>min</th>\n",
       "      <td>2.000000</td>\n",
       "      <td>NaN</td>\n",
       "      <td>18.000000</td>\n",
       "      <td>NaN</td>\n",
       "      <td>NaN</td>\n",
       "      <td>0.000000</td>\n",
       "      <td>0.000000</td>\n",
       "      <td>0.000000</td>\n",
       "      <td>0.000000</td>\n",
       "      <td>0.000000</td>\n",
       "      <td>NaN</td>\n",
       "      <td>NaN</td>\n",
       "      <td>NaN</td>\n",
       "      <td>NaN</td>\n",
       "      <td>0.000000</td>\n",
       "      <td>1.000000</td>\n",
       "      <td>NaN</td>\n",
       "      <td>0.000000</td>\n",
       "    </tr>\n",
       "    <tr>\n",
       "      <th>25%</th>\n",
       "      <td>35039.000000</td>\n",
       "      <td>NaN</td>\n",
       "      <td>21.000000</td>\n",
       "      <td>NaN</td>\n",
       "      <td>NaN</td>\n",
       "      <td>2.000000</td>\n",
       "      <td>0.000000</td>\n",
       "      <td>6.290000</td>\n",
       "      <td>2.000000</td>\n",
       "      <td>0.000000</td>\n",
       "      <td>NaN</td>\n",
       "      <td>NaN</td>\n",
       "      <td>NaN</td>\n",
       "      <td>NaN</td>\n",
       "      <td>4.000000</td>\n",
       "      <td>2.000000</td>\n",
       "      <td>NaN</td>\n",
       "      <td>0.000000</td>\n",
       "    </tr>\n",
       "    <tr>\n",
       "      <th>50%</th>\n",
       "      <td>70684.000000</td>\n",
       "      <td>NaN</td>\n",
       "      <td>25.000000</td>\n",
       "      <td>NaN</td>\n",
       "      <td>NaN</td>\n",
       "      <td>3.000000</td>\n",
       "      <td>0.000000</td>\n",
       "      <td>7.770000</td>\n",
       "      <td>3.000000</td>\n",
       "      <td>0.000000</td>\n",
       "      <td>NaN</td>\n",
       "      <td>NaN</td>\n",
       "      <td>NaN</td>\n",
       "      <td>NaN</td>\n",
       "      <td>8.000000</td>\n",
       "      <td>3.000000</td>\n",
       "      <td>NaN</td>\n",
       "      <td>1.000000</td>\n",
       "    </tr>\n",
       "    <tr>\n",
       "      <th>75%</th>\n",
       "      <td>105818.000000</td>\n",
       "      <td>NaN</td>\n",
       "      <td>30.000000</td>\n",
       "      <td>NaN</td>\n",
       "      <td>NaN</td>\n",
       "      <td>4.000000</td>\n",
       "      <td>0.000000</td>\n",
       "      <td>8.920000</td>\n",
       "      <td>4.000000</td>\n",
       "      <td>0.000000</td>\n",
       "      <td>NaN</td>\n",
       "      <td>NaN</td>\n",
       "      <td>NaN</td>\n",
       "      <td>NaN</td>\n",
       "      <td>10.000000</td>\n",
       "      <td>4.000000</td>\n",
       "      <td>NaN</td>\n",
       "      <td>1.000000</td>\n",
       "    </tr>\n",
       "    <tr>\n",
       "      <th>max</th>\n",
       "      <td>140699.000000</td>\n",
       "      <td>NaN</td>\n",
       "      <td>59.000000</td>\n",
       "      <td>NaN</td>\n",
       "      <td>NaN</td>\n",
       "      <td>5.000000</td>\n",
       "      <td>5.000000</td>\n",
       "      <td>10.000000</td>\n",
       "      <td>5.000000</td>\n",
       "      <td>4.000000</td>\n",
       "      <td>NaN</td>\n",
       "      <td>NaN</td>\n",
       "      <td>NaN</td>\n",
       "      <td>NaN</td>\n",
       "      <td>12.000000</td>\n",
       "      <td>5.000000</td>\n",
       "      <td>NaN</td>\n",
       "      <td>1.000000</td>\n",
       "    </tr>\n",
       "  </tbody>\n",
       "</table>\n",
       "</div>"
      ],
      "text/plain": [
       "                   id Gender           Age    City Profession  \\\n",
       "count    27901.000000  27901  27901.000000   27901      27901   \n",
       "unique            NaN      2           NaN      52         14   \n",
       "top               NaN   Male           NaN  Kalyan    Student   \n",
       "freq              NaN  15547           NaN    1570      27870   \n",
       "mean     70442.149421    NaN     25.822300     NaN        NaN   \n",
       "std      40641.175216    NaN      4.905687     NaN        NaN   \n",
       "min          2.000000    NaN     18.000000     NaN        NaN   \n",
       "25%      35039.000000    NaN     21.000000     NaN        NaN   \n",
       "50%      70684.000000    NaN     25.000000     NaN        NaN   \n",
       "75%     105818.000000    NaN     30.000000     NaN        NaN   \n",
       "max     140699.000000    NaN     59.000000     NaN        NaN   \n",
       "\n",
       "        Academic Pressure  Work Pressure          CGPA  Study Satisfaction  \\\n",
       "count        27901.000000   27901.000000  27901.000000        27901.000000   \n",
       "unique                NaN            NaN           NaN                 NaN   \n",
       "top                   NaN            NaN           NaN                 NaN   \n",
       "freq                  NaN            NaN           NaN                 NaN   \n",
       "mean             3.141214       0.000430      7.656104            2.943837   \n",
       "std              1.381465       0.043992      1.470707            1.361148   \n",
       "min              0.000000       0.000000      0.000000            0.000000   \n",
       "25%              2.000000       0.000000      6.290000            2.000000   \n",
       "50%              3.000000       0.000000      7.770000            3.000000   \n",
       "75%              4.000000       0.000000      8.920000            4.000000   \n",
       "max              5.000000       5.000000     10.000000            5.000000   \n",
       "\n",
       "        Job Satisfaction     Sleep Duration Dietary Habits    Degree  \\\n",
       "count       27901.000000              27901          27901     27901   \n",
       "unique               NaN                  5              4        28   \n",
       "top                  NaN  Less than 5 hours      Unhealthy  Class 12   \n",
       "freq                 NaN               8310          10317      6080   \n",
       "mean            0.000681                NaN            NaN       NaN   \n",
       "std             0.044394                NaN            NaN       NaN   \n",
       "min             0.000000                NaN            NaN       NaN   \n",
       "25%             0.000000                NaN            NaN       NaN   \n",
       "50%             0.000000                NaN            NaN       NaN   \n",
       "75%             0.000000                NaN            NaN       NaN   \n",
       "max             4.000000                NaN            NaN       NaN   \n",
       "\n",
       "       Have you ever had suicidal thoughts ?  Work/Study Hours  \\\n",
       "count                                  27901      27901.000000   \n",
       "unique                                     2               NaN   \n",
       "top                                      Yes               NaN   \n",
       "freq                                   17656               NaN   \n",
       "mean                                     NaN          7.156984   \n",
       "std                                      NaN          3.707642   \n",
       "min                                      NaN          0.000000   \n",
       "25%                                      NaN          4.000000   \n",
       "50%                                      NaN          8.000000   \n",
       "75%                                      NaN         10.000000   \n",
       "max                                      NaN         12.000000   \n",
       "\n",
       "        Financial Stress Family History of Mental Illness    Depression  \n",
       "count       27898.000000                            27901  27901.000000  \n",
       "unique               NaN                                2           NaN  \n",
       "top                  NaN                               No           NaN  \n",
       "freq                 NaN                            14398           NaN  \n",
       "mean            3.139867                              NaN      0.585499  \n",
       "std             1.437347                              NaN      0.492645  \n",
       "min             1.000000                              NaN      0.000000  \n",
       "25%             2.000000                              NaN      0.000000  \n",
       "50%             3.000000                              NaN      1.000000  \n",
       "75%             4.000000                              NaN      1.000000  \n",
       "max             5.000000                              NaN      1.000000  "
      ]
     },
     "execution_count": 5,
     "metadata": {},
     "output_type": "execute_result"
    }
   ],
   "source": [
    "data.describe(include = 'all')"
   ]
  },
  {
   "cell_type": "code",
   "execution_count": 6,
   "metadata": {},
   "outputs": [
    {
     "data": {
      "text/plain": [
       "id                                       0\n",
       "Gender                                   0\n",
       "Age                                      0\n",
       "City                                     0\n",
       "Profession                               0\n",
       "Academic Pressure                        0\n",
       "Work Pressure                            0\n",
       "CGPA                                     0\n",
       "Study Satisfaction                       0\n",
       "Job Satisfaction                         0\n",
       "Sleep Duration                           0\n",
       "Dietary Habits                           0\n",
       "Degree                                   0\n",
       "Have you ever had suicidal thoughts ?    0\n",
       "Work/Study Hours                         0\n",
       "Financial Stress                         3\n",
       "Family History of Mental Illness         0\n",
       "Depression                               0\n",
       "dtype: int64"
      ]
     },
     "execution_count": 6,
     "metadata": {},
     "output_type": "execute_result"
    }
   ],
   "source": [
    "data.isna().sum()"
   ]
  },
  {
   "cell_type": "code",
   "execution_count": 7,
   "metadata": {},
   "outputs": [],
   "source": [
    "# setting the style for graphs plotted using seaborn\n",
    "sns.set_style(style='darkgrid')"
   ]
  },
  {
   "cell_type": "code",
   "execution_count": 8,
   "metadata": {},
   "outputs": [
    {
     "data": {
      "text/plain": [
       "Gender\n",
       "Male      15547\n",
       "Female    12354\n",
       "Name: count, dtype: int64"
      ]
     },
     "execution_count": 8,
     "metadata": {},
     "output_type": "execute_result"
    },
    {
     "data": {
      "image/png": "[encoded data removed]",
      "text/plain": [
       "<Figure size 640x480 with 1 Axes>"
      ]
     },
     "metadata": {},
     "output_type": "display_data"
    }
   ],
   "source": [
    "sns.histplot(x = data['Gender'],hue = data['Gender'], palette='Set1')\n",
    "data['Gender'].value_counts()"
   ]
  },
  {
   "cell_type": "code",
   "execution_count": 9,
   "metadata": {},
   "outputs": [
    {
     "data": {
      "text/plain": [
       "array([33., 24., 31., 28., 25., 29., 30., 27., 19., 20., 23., 18., 21.,\n",
       "       22., 34., 32., 26., 39., 35., 42., 36., 58., 49., 38., 51., 44.,\n",
       "       43., 46., 59., 54., 48., 56., 37., 41.])"
      ]
     },
     "execution_count": 9,
     "metadata": {},
     "output_type": "execute_result"
    },
    {
     "data": {
      "image/png": "[encoded data removed]",
      "text/plain": [
       "<Figure size 640x480 with 1 Axes>"
      ]
     },
     "metadata": {},
     "output_type": "display_data"
    }
   ],
   "source": [
    "sns.histplot( x = data['Age'],bins=20, kde=True, color='Blue')\n",
    "data['Age'].unique()"
   ]
  },
  {
   "cell_type": "code",
   "execution_count": 10,
   "metadata": {},
   "outputs": [
    {
     "data": {
      "text/plain": [
       "array(['Visakhapatnam', 'Bangalore', 'Srinagar', 'Varanasi', 'Jaipur',\n",
       "       'Pune', 'Thane', 'Chennai', 'Nagpur', 'Nashik', 'Vadodara',\n",
       "       'Kalyan', 'Rajkot', 'Ahmedabad', 'Kolkata', 'Mumbai', 'Lucknow',\n",
       "       'Indore', 'Surat', 'Ludhiana', 'Bhopal', 'Meerut', 'Agra',\n",
       "       'Ghaziabad', 'Hyderabad', 'Vasai-Virar', 'Kanpur', 'Patna',\n",
       "       'Faridabad', 'Delhi', 'Saanvi', 'M.Tech', 'Bhavna', 'Less Delhi',\n",
       "       'City', '3.0', 'Less than 5 Kalyan', 'Mira', 'Harsha', 'Vaanya',\n",
       "       'Gaurav', 'Harsh', 'Reyansh', 'Kibara', 'Rashi', 'ME', 'M.Com',\n",
       "       'Nalyan', 'Mihir', 'Nalini', 'Nandini', 'Khaziabad'], dtype=object)"
      ]
     },
     "execution_count": 10,
     "metadata": {},
     "output_type": "execute_result"
    }
   ],
   "source": [
    "data['City'].unique()"
   ]
  },
  {
   "cell_type": "code",
   "execution_count": 11,
   "metadata": {},
   "outputs": [
    {
     "data": {
      "text/plain": [
       "City\n",
       "Kalyan                1570\n",
       "Srinagar              1372\n",
       "Hyderabad             1340\n",
       "Vasai-Virar           1290\n",
       "Lucknow               1155\n",
       "Thane                 1139\n",
       "Ludhiana              1111\n",
       "Agra                  1094\n",
       "Surat                 1078\n",
       "Kolkata               1066\n",
       "Jaipur                1036\n",
       "Patna                 1007\n",
       "Visakhapatnam          969\n",
       "Pune                   968\n",
       "Ahmedabad              951\n",
       "Bhopal                 934\n",
       "Chennai                885\n",
       "Meerut                 825\n",
       "Rajkot                 816\n",
       "Delhi                  768\n",
       "Bangalore              767\n",
       "Ghaziabad              745\n",
       "Mumbai                 699\n",
       "Vadodara               694\n",
       "Varanasi               685\n",
       "Nagpur                 651\n",
       "Indore                 643\n",
       "Kanpur                 609\n",
       "Nashik                 547\n",
       "Faridabad              461\n",
       "Saanvi                   2\n",
       "Bhavna                   2\n",
       "City                     2\n",
       "Harsha                   2\n",
       "Less Delhi               1\n",
       "M.Tech                   1\n",
       "3.0                      1\n",
       "Less than 5 Kalyan       1\n",
       "Mira                     1\n",
       "Vaanya                   1\n",
       "Gaurav                   1\n",
       "Harsh                    1\n",
       "Reyansh                  1\n",
       "Kibara                   1\n",
       "Rashi                    1\n",
       "ME                       1\n",
       "M.Com                    1\n",
       "Nalyan                   1\n",
       "Mihir                    1\n",
       "Nalini                   1\n",
       "Nandini                  1\n",
       "Khaziabad                1\n",
       "Name: count, dtype: int64"
      ]
     },
     "execution_count": 11,
     "metadata": {},
     "output_type": "execute_result"
    }
   ],
   "source": [
    "data['City'].value_counts()"
   ]
  },
  {
   "cell_type": "code",
   "execution_count": 12,
   "metadata": {},
   "outputs": [
    {
     "name": "stdout",
     "output_type": "stream",
     "text": [
      "['Student' 'Civil Engineer' 'Architect' 'UX/UI Designer'\n",
      " 'Digital Marketer' 'Content Writer' 'Educational Consultant' 'Teacher'\n",
      " 'Manager' 'Chef' 'Doctor' 'Lawyer' 'Entrepreneur' 'Pharmacist']\n"
     ]
    },
    {
     "data": {
      "text/plain": [
       "Profession\n",
       "Student                   27870\n",
       "Architect                     8\n",
       "Teacher                       6\n",
       "Digital Marketer              3\n",
       "Chef                          2\n",
       "Content Writer                2\n",
       "Pharmacist                    2\n",
       "Doctor                        2\n",
       "UX/UI Designer                1\n",
       "Civil Engineer                1\n",
       "Manager                       1\n",
       "Educational Consultant        1\n",
       "Lawyer                        1\n",
       "Entrepreneur                  1\n",
       "Name: count, dtype: int64"
      ]
     },
     "execution_count": 12,
     "metadata": {},
     "output_type": "execute_result"
    }
   ],
   "source": [
    "print(data['Profession'].unique())\n",
    "data['Profession'].value_counts()"
   ]
  },
  {
   "cell_type": "code",
   "execution_count": 13,
   "metadata": {},
   "outputs": [
    {
     "data": {
      "text/plain": [
       "Work Pressure\n",
       "0.0    27898\n",
       "5.0        2\n",
       "2.0        1\n",
       "Name: count, dtype: int64"
      ]
     },
     "execution_count": 13,
     "metadata": {},
     "output_type": "execute_result"
    },
    {
     "data": {
      "image/png": "[encoded data removed]",
      "text/plain": [
       "<Figure size 640x480 with 1 Axes>"
      ]
     },
     "metadata": {},
     "output_type": "display_data"
    }
   ],
   "source": [
    "sns.histplot(x = data['Work Pressure'], color = \"Blue\")\n",
    "data['Work Pressure'].value_counts()"
   ]
  },
  {
   "cell_type": "markdown",
   "metadata": {},
   "source": [
    "- work pressure is primarily empty as most of the respondents are students"
   ]
  },
  {
   "cell_type": "code",
   "execution_count": 14,
   "metadata": {},
   "outputs": [
    {
     "data": {
      "text/plain": [
       "Academic Pressure\n",
       "3.0    7462\n",
       "5.0    6296\n",
       "4.0    5155\n",
       "1.0    4801\n",
       "2.0    4178\n",
       "0.0       9\n",
       "Name: count, dtype: int64"
      ]
     },
     "execution_count": 14,
     "metadata": {},
     "output_type": "execute_result"
    },
    {
     "data": {
      "image/png": "[encoded data removed]",
      "text/plain": [
       "<Figure size 640x480 with 1 Axes>"
      ]
     },
     "metadata": {},
     "output_type": "display_data"
    }
   ],
   "source": [
    "sns.histplot(x = data['Academic Pressure'], kde=True, color = \"Blue\")\n",
    "data['Academic Pressure'].value_counts()"
   ]
  },
  {
   "cell_type": "code",
   "execution_count": 15,
   "metadata": {},
   "outputs": [
    {
     "data": {
      "text/plain": [
       "<Axes: xlabel='CGPA', ylabel='Count'>"
      ]
     },
     "execution_count": 15,
     "metadata": {},
     "output_type": "execute_result"
    },
    {
     "data": {
      "image/png": "[encoded data removed]",
      "text/plain": [
       "<Figure size 640x480 with 1 Axes>"
      ]
     },
     "metadata": {},
     "output_type": "display_data"
    }
   ],
   "source": [
    "sns.histplot(x=data['CGPA'], kde = True, color='Blue')"
   ]
  },
  {
   "cell_type": "code",
   "execution_count": 16,
   "metadata": {},
   "outputs": [
    {
     "data": {
      "text/plain": [
       "<Axes: xlabel='Gender', ylabel='CGPA'>"
      ]
     },
     "execution_count": 16,
     "metadata": {},
     "output_type": "execute_result"
    },
    {
     "data": {
      "image/png": "[encoded data removed]",
      "text/plain": [
       "<Figure size 640x480 with 1 Axes>"
      ]
     },
     "metadata": {},
     "output_type": "display_data"
    }
   ],
   "source": [
    "sns.boxplot(x = 'Gender', y = 'CGPA', hue = 'Gender', data = data, palette='Set1', legend=False)"
   ]
  },
  {
   "cell_type": "code",
   "execution_count": 17,
   "metadata": {},
   "outputs": [
    {
     "data": {
      "text/plain": [
       "Study Satisfaction\n",
       "4.0    6359\n",
       "2.0    5838\n",
       "3.0    5821\n",
       "1.0    5451\n",
       "5.0    4422\n",
       "0.0      10\n",
       "Name: count, dtype: int64"
      ]
     },
     "execution_count": 17,
     "metadata": {},
     "output_type": "execute_result"
    },
    {
     "data": {
      "image/png": "[encoded data removed]",
      "text/plain": [
       "<Figure size 640x480 with 1 Axes>"
      ]
     },
     "metadata": {},
     "output_type": "display_data"
    }
   ],
   "source": [
    "sns.histplot(x=data['Study Satisfaction'], kde=True, color = 'Blue')\n",
    "data['Study Satisfaction'].value_counts()"
   ]
  },
  {
   "cell_type": "code",
   "execution_count": 18,
   "metadata": {},
   "outputs": [
    {
     "data": {
      "text/plain": [
       "Job Satisfaction\n",
       "0.0    27893\n",
       "2.0        3\n",
       "4.0        2\n",
       "1.0        2\n",
       "3.0        1\n",
       "Name: count, dtype: int64"
      ]
     },
     "execution_count": 18,
     "metadata": {},
     "output_type": "execute_result"
    }
   ],
   "source": [
    "data['Job Satisfaction'].value_counts()"
   ]
  },
  {
   "cell_type": "markdown",
   "metadata": {},
   "source": [
    "- primarily empty again"
   ]
  },
  {
   "cell_type": "code",
   "execution_count": 19,
   "metadata": {},
   "outputs": [
    {
     "data": {
      "text/plain": [
       "Sleep Duration\n",
       "Less than 5 hours    8310\n",
       "7-8 hours            7346\n",
       "5-6 hours            6183\n",
       "More than 8 hours    6044\n",
       "Others                 18\n",
       "Name: count, dtype: int64"
      ]
     },
     "execution_count": 19,
     "metadata": {},
     "output_type": "execute_result"
    }
   ],
   "source": [
    "# data['Sleep Duration'].unique()\n",
    "data['Sleep Duration'].value_counts()\n"
   ]
  },
  {
   "cell_type": "code",
   "execution_count": 20,
   "metadata": {},
   "outputs": [
    {
     "data": {
      "text/plain": [
       "Dietary Habits\n",
       "Unhealthy    10317\n",
       "Moderate      9921\n",
       "Healthy       7651\n",
       "Others          12\n",
       "Name: count, dtype: int64"
      ]
     },
     "execution_count": 20,
     "metadata": {},
     "output_type": "execute_result"
    }
   ],
   "source": [
    "#data['Dietary Habits'].unique()\n",
    "data['Dietary Habits'].value_counts()"
   ]
  },
  {
   "cell_type": "code",
   "execution_count": 21,
   "metadata": {},
   "outputs": [
    {
     "data": {
      "text/plain": [
       "Degree\n",
       "Class 12    6080\n",
       "B.Ed        1867\n",
       "B.Com       1506\n",
       "B.Arch      1478\n",
       "BCA         1433\n",
       "MSc         1190\n",
       "B.Tech      1152\n",
       "MCA         1044\n",
       "M.Tech      1022\n",
       "BHM          925\n",
       "BSc          888\n",
       "M.Ed         821\n",
       "B.Pharm      810\n",
       "M.Com        734\n",
       "BBA          696\n",
       "MBBS         696\n",
       "LLB          671\n",
       "BE           613\n",
       "BA           600\n",
       "M.Pharm      582\n",
       "MD           572\n",
       "MBA          562\n",
       "MA           544\n",
       "PhD          522\n",
       "LLM          482\n",
       "MHM          191\n",
       "ME           185\n",
       "Others        35\n",
       "Name: count, dtype: int64"
      ]
     },
     "execution_count": 21,
     "metadata": {},
     "output_type": "execute_result"
    }
   ],
   "source": [
    "# data['Degree'].unique()\n",
    "data['Degree'].value_counts()"
   ]
  },
  {
   "cell_type": "code",
   "execution_count": 22,
   "metadata": {},
   "outputs": [
    {
     "data": {
      "text/plain": [
       "<Axes: xlabel='Have you ever had suicidal thoughts ?', ylabel='count'>"
      ]
     },
     "execution_count": 22,
     "metadata": {},
     "output_type": "execute_result"
    },
    {
     "data": {
      "image/png": "[encoded data removed]",
      "text/plain": [
       "<Figure size 640x480 with 1 Axes>"
      ]
     },
     "metadata": {},
     "output_type": "display_data"
    }
   ],
   "source": [
    "sns.barplot(data['Have you ever had suicidal thoughts ?'].value_counts(), color = 'Blue')"
   ]
  },
  {
   "cell_type": "code",
   "execution_count": 23,
   "metadata": {},
   "outputs": [
    {
     "data": {
      "text/plain": [
       "<Axes: xlabel='Work/Study Hours', ylabel='count'>"
      ]
     },
     "execution_count": 23,
     "metadata": {},
     "output_type": "execute_result"
    },
    {
     "data": {
      "image/png": "[encoded data removed]",
      "text/plain": [
       "<Figure size 640x480 with 1 Axes>"
      ]
     },
     "metadata": {},
     "output_type": "display_data"
    }
   ],
   "source": [
    "sns.barplot(data['Work/Study Hours'].value_counts(), color = \"blue\")"
   ]
  },
  {
   "cell_type": "code",
   "execution_count": 24,
   "metadata": {},
   "outputs": [
    {
     "data": {
      "text/plain": [
       "<Axes: xlabel='Financial Stress', ylabel='count'>"
      ]
     },
     "execution_count": 24,
     "metadata": {},
     "output_type": "execute_result"
    },
    {
     "data": {
      "image/png": "[encoded data removed]",
      "text/plain": [
       "<Figure size 640x480 with 1 Axes>"
      ]
     },
     "metadata": {},
     "output_type": "display_data"
    }
   ],
   "source": [
    "sns.barplot(data['Financial Stress'].value_counts(), color='Blue')"
   ]
  },
  {
   "cell_type": "code",
   "execution_count": 25,
   "metadata": {},
   "outputs": [
    {
     "data": {
      "text/plain": [
       "<Axes: xlabel='Family History of Mental Illness', ylabel='count'>"
      ]
     },
     "execution_count": 25,
     "metadata": {},
     "output_type": "execute_result"
    },
    {
     "data": {
      "image/png": "[encoded data removed]",
      "text/plain": [
       "<Figure size 640x480 with 1 Axes>"
      ]
     },
     "metadata": {},
     "output_type": "display_data"
    }
   ],
   "source": [
    "sns.barplot(data['Family History of Mental Illness'].value_counts(), color = 'Blue')"
   ]
  },
  {
   "cell_type": "markdown",
   "metadata": {},
   "source": [
    "### _Columns that need cleaning_\n",
    "- _City_ : remove the messy inputs ( non city name entries)\n",
    "- _Profession_ : removing non student professions\n",
    "- _Work Pressure_ : removing the column as there would only be students left in the data after only keeping students in the Profession column\n",
    "- _Job Satisfaction_ : removing the column, same reasoning as for work pressure"
   ]
  },
  {
   "cell_type": "markdown",
   "metadata": {},
   "source": [
    "## DATA CLEANING"
   ]
  },
  {
   "cell_type": "code",
   "execution_count": 26,
   "metadata": {},
   "outputs": [
    {
     "data": {
      "text/plain": [
       "City\n",
       "Kalyan           1570\n",
       "Srinagar         1372\n",
       "Hyderabad        1340\n",
       "Vasai-Virar      1290\n",
       "Lucknow          1155\n",
       "Thane            1139\n",
       "Ludhiana         1111\n",
       "Agra             1094\n",
       "Surat            1078\n",
       "Kolkata          1066\n",
       "Jaipur           1036\n",
       "Patna            1007\n",
       "Visakhapatnam     969\n",
       "Pune              968\n",
       "Ahmedabad         951\n",
       "Bhopal            934\n",
       "Chennai           885\n",
       "Meerut            825\n",
       "Rajkot            816\n",
       "Delhi             768\n",
       "Bangalore         767\n",
       "Ghaziabad         745\n",
       "Mumbai            699\n",
       "Vadodara          694\n",
       "Varanasi          685\n",
       "Nagpur            651\n",
       "Indore            643\n",
       "Kanpur            609\n",
       "Nashik            547\n",
       "Faridabad         461\n",
       "Name: count, dtype: int64"
      ]
     },
     "execution_count": 26,
     "metadata": {},
     "output_type": "execute_result"
    }
   ],
   "source": [
    "# Removing all the non city name entries in the column city\n",
    "cities_to_remove = data['City'].value_counts()[data['City'].value_counts() < 400]\n",
    "data = data[~data['City'].isin(cities_to_remove.index)]\n",
    "data['City'].value_counts()"
   ]
  },
  {
   "cell_type": "code",
   "execution_count": 27,
   "metadata": {},
   "outputs": [
    {
     "data": {
      "text/plain": [
       "Profession\n",
       "Student    27844\n",
       "Name: count, dtype: int64"
      ]
     },
     "execution_count": 27,
     "metadata": {},
     "output_type": "execute_result"
    }
   ],
   "source": [
    "# Removing non-student professionals\n",
    "data = data[data['Profession'] == 'Student']\n",
    "data['Profession'].value_counts()"
   ]
  },
  {
   "cell_type": "code",
   "execution_count": 28,
   "metadata": {},
   "outputs": [],
   "source": [
    "data = data.drop('Work Pressure', axis=1)"
   ]
  },
  {
   "cell_type": "code",
   "execution_count": 29,
   "metadata": {},
   "outputs": [],
   "source": [
    "data = data.drop('Job Satisfaction', axis=1)"
   ]
  },
  {
   "cell_type": "code",
   "execution_count": 30,
   "metadata": {},
   "outputs": [],
   "source": [
    "# removing the profession column as all the entries are the same\n",
    "data = data.drop('Profession', axis=1)"
   ]
  },
  {
   "cell_type": "code",
   "execution_count": 31,
   "metadata": {},
   "outputs": [
    {
     "data": {
      "text/html": [
       "<div>\n",
       "<style scoped>\n",
       "    .dataframe tbody tr th:only-of-type {\n",
       "        vertical-align: middle;\n",
       "    }\n",
       "\n",
       "    .dataframe tbody tr th {\n",
       "        vertical-align: top;\n",
       "    }\n",
       "\n",
       "    .dataframe thead th {\n",
       "        text-align: right;\n",
       "    }\n",
       "</style>\n",
       "<table border=\"1\" class=\"dataframe\">\n",
       "  <thead>\n",
       "    <tr style=\"text-align: right;\">\n",
       "      <th></th>\n",
       "      <th>id</th>\n",
       "      <th>Gender</th>\n",
       "      <th>Age</th>\n",
       "      <th>City</th>\n",
       "      <th>Academic Pressure</th>\n",
       "      <th>CGPA</th>\n",
       "      <th>Study Satisfaction</th>\n",
       "      <th>Sleep Duration</th>\n",
       "      <th>Dietary Habits</th>\n",
       "      <th>Degree</th>\n",
       "      <th>Have you ever had suicidal thoughts ?</th>\n",
       "      <th>Work/Study Hours</th>\n",
       "      <th>Financial Stress</th>\n",
       "      <th>Family History of Mental Illness</th>\n",
       "      <th>Depression</th>\n",
       "    </tr>\n",
       "  </thead>\n",
       "  <tbody>\n",
       "    <tr>\n",
       "      <th>0</th>\n",
       "      <td>2</td>\n",
       "      <td>Male</td>\n",
       "      <td>33.0</td>\n",
       "      <td>Visakhapatnam</td>\n",
       "      <td>5.0</td>\n",
       "      <td>8.97</td>\n",
       "      <td>2.0</td>\n",
       "      <td>5-6 hours</td>\n",
       "      <td>Healthy</td>\n",
       "      <td>B.Pharm</td>\n",
       "      <td>Yes</td>\n",
       "      <td>3.0</td>\n",
       "      <td>1.0</td>\n",
       "      <td>No</td>\n",
       "      <td>1</td>\n",
       "    </tr>\n",
       "    <tr>\n",
       "      <th>1</th>\n",
       "      <td>8</td>\n",
       "      <td>Female</td>\n",
       "      <td>24.0</td>\n",
       "      <td>Bangalore</td>\n",
       "      <td>2.0</td>\n",
       "      <td>5.90</td>\n",
       "      <td>5.0</td>\n",
       "      <td>5-6 hours</td>\n",
       "      <td>Moderate</td>\n",
       "      <td>BSc</td>\n",
       "      <td>No</td>\n",
       "      <td>3.0</td>\n",
       "      <td>2.0</td>\n",
       "      <td>Yes</td>\n",
       "      <td>0</td>\n",
       "    </tr>\n",
       "    <tr>\n",
       "      <th>2</th>\n",
       "      <td>26</td>\n",
       "      <td>Male</td>\n",
       "      <td>31.0</td>\n",
       "      <td>Srinagar</td>\n",
       "      <td>3.0</td>\n",
       "      <td>7.03</td>\n",
       "      <td>5.0</td>\n",
       "      <td>Less than 5 hours</td>\n",
       "      <td>Healthy</td>\n",
       "      <td>BA</td>\n",
       "      <td>No</td>\n",
       "      <td>9.0</td>\n",
       "      <td>1.0</td>\n",
       "      <td>Yes</td>\n",
       "      <td>0</td>\n",
       "    </tr>\n",
       "    <tr>\n",
       "      <th>3</th>\n",
       "      <td>30</td>\n",
       "      <td>Female</td>\n",
       "      <td>28.0</td>\n",
       "      <td>Varanasi</td>\n",
       "      <td>3.0</td>\n",
       "      <td>5.59</td>\n",
       "      <td>2.0</td>\n",
       "      <td>7-8 hours</td>\n",
       "      <td>Moderate</td>\n",
       "      <td>BCA</td>\n",
       "      <td>Yes</td>\n",
       "      <td>4.0</td>\n",
       "      <td>5.0</td>\n",
       "      <td>Yes</td>\n",
       "      <td>1</td>\n",
       "    </tr>\n",
       "    <tr>\n",
       "      <th>4</th>\n",
       "      <td>32</td>\n",
       "      <td>Female</td>\n",
       "      <td>25.0</td>\n",
       "      <td>Jaipur</td>\n",
       "      <td>4.0</td>\n",
       "      <td>8.13</td>\n",
       "      <td>3.0</td>\n",
       "      <td>5-6 hours</td>\n",
       "      <td>Moderate</td>\n",
       "      <td>M.Tech</td>\n",
       "      <td>Yes</td>\n",
       "      <td>1.0</td>\n",
       "      <td>1.0</td>\n",
       "      <td>No</td>\n",
       "      <td>0</td>\n",
       "    </tr>\n",
       "  </tbody>\n",
       "</table>\n",
       "</div>"
      ],
      "text/plain": [
       "   id  Gender   Age           City  Academic Pressure  CGPA  \\\n",
       "0   2    Male  33.0  Visakhapatnam                5.0  8.97   \n",
       "1   8  Female  24.0      Bangalore                2.0  5.90   \n",
       "2  26    Male  31.0       Srinagar                3.0  7.03   \n",
       "3  30  Female  28.0       Varanasi                3.0  5.59   \n",
       "4  32  Female  25.0         Jaipur                4.0  8.13   \n",
       "\n",
       "   Study Satisfaction     Sleep Duration Dietary Habits   Degree  \\\n",
       "0                 2.0          5-6 hours        Healthy  B.Pharm   \n",
       "1                 5.0          5-6 hours       Moderate      BSc   \n",
       "2                 5.0  Less than 5 hours        Healthy       BA   \n",
       "3                 2.0          7-8 hours       Moderate      BCA   \n",
       "4                 3.0          5-6 hours       Moderate   M.Tech   \n",
       "\n",
       "  Have you ever had suicidal thoughts ?  Work/Study Hours  Financial Stress  \\\n",
       "0                                   Yes               3.0               1.0   \n",
       "1                                    No               3.0               2.0   \n",
       "2                                    No               9.0               1.0   \n",
       "3                                   Yes               4.0               5.0   \n",
       "4                                   Yes               1.0               1.0   \n",
       "\n",
       "  Family History of Mental Illness  Depression  \n",
       "0                               No           1  \n",
       "1                              Yes           0  \n",
       "2                              Yes           0  \n",
       "3                              Yes           1  \n",
       "4                               No           0  "
      ]
     },
     "execution_count": 31,
     "metadata": {},
     "output_type": "execute_result"
    }
   ],
   "source": [
    "data.head()"
   ]
  },
  {
   "cell_type": "code",
   "execution_count": 32,
   "metadata": {},
   "outputs": [
    {
     "data": {
      "text/plain": [
       "(Dietary Habits\n",
       " Unhealthy    10296\n",
       " Moderate      9904\n",
       " Healthy       7632\n",
       " Others          12\n",
       " Name: count, dtype: int64,\n",
       " Sleep Duration\n",
       " Less than 5 hours    8296\n",
       " 7-8 hours            7327\n",
       " 5-6 hours            6171\n",
       " More than 8 hours    6032\n",
       " Others                 18\n",
       " Name: count, dtype: int64,\n",
       " Degree\n",
       " Class 12    6075\n",
       " B.Ed        1861\n",
       " B.Com       1505\n",
       " B.Arch      1477\n",
       " BCA         1430\n",
       " MSc         1184\n",
       " B.Tech      1152\n",
       " MCA         1042\n",
       " M.Tech      1021\n",
       " BHM          921\n",
       " BSc          885\n",
       " M.Ed         819\n",
       " B.Pharm      809\n",
       " M.Com        733\n",
       " BBA          695\n",
       " MBBS         694\n",
       " LLB          670\n",
       " BE           610\n",
       " BA           597\n",
       " M.Pharm      581\n",
       " MD           568\n",
       " MBA          561\n",
       " MA           542\n",
       " PhD          521\n",
       " LLM          480\n",
       " MHM          191\n",
       " ME           185\n",
       " Others        35\n",
       " Name: count, dtype: int64)"
      ]
     },
     "execution_count": 32,
     "metadata": {},
     "output_type": "execute_result"
    }
   ],
   "source": [
    "data['Dietary Habits'].value_counts(), data['Sleep Duration'].value_counts(), data['Degree'].value_counts()"
   ]
  },
  {
   "cell_type": "code",
   "execution_count": 33,
   "metadata": {},
   "outputs": [
    {
     "name": "stdout",
     "output_type": "stream",
     "text": [
      "<class 'pandas.core.frame.DataFrame'>\n",
      "Index: 27844 entries, 0 to 27900\n",
      "Data columns (total 15 columns):\n",
      " #   Column                                 Non-Null Count  Dtype  \n",
      "---  ------                                 --------------  -----  \n",
      " 0   id                                     27844 non-null  int64  \n",
      " 1   Gender                                 27844 non-null  object \n",
      " 2   Age                                    27844 non-null  float64\n",
      " 3   City                                   27844 non-null  object \n",
      " 4   Academic Pressure                      27844 non-null  float64\n",
      " 5   CGPA                                   27844 non-null  float64\n",
      " 6   Study Satisfaction                     27844 non-null  float64\n",
      " 7   Sleep Duration                         27844 non-null  object \n",
      " 8   Dietary Habits                         27844 non-null  object \n",
      " 9   Degree                                 27844 non-null  object \n",
      " 10  Have you ever had suicidal thoughts ?  27844 non-null  object \n",
      " 11  Work/Study Hours                       27844 non-null  float64\n",
      " 12  Financial Stress                       27841 non-null  float64\n",
      " 13  Family History of Mental Illness       27844 non-null  object \n",
      " 14  Depression                             27844 non-null  int64  \n",
      "dtypes: float64(6), int64(2), object(7)\n",
      "memory usage: 3.4+ MB\n"
     ]
    }
   ],
   "source": [
    "data.info()"
   ]
  },
  {
   "cell_type": "markdown",
   "metadata": {},
   "source": [
    "### FEATURE SCALING"
   ]
  },
  {
   "cell_type": "markdown",
   "metadata": {},
   "source": [
    " - columns to scale : _Age, Academic Pressure, Study Satisfaction, Financial Stress, CGPA, Work/Study Hours_\n",
    " - columns to encode : _Gender, City, Sleep Duration, Dietary Habits, Degree, Have you ever had suicidal thoughts ?, Family History of Mental Illness_"
   ]
  },
  {
   "cell_type": "code",
   "execution_count": 34,
   "metadata": {},
   "outputs": [],
   "source": [
    "from sklearn.preprocessing import StandardScaler, LabelEncoder\n",
    "scaler = StandardScaler()\n",
    "encoder = LabelEncoder()"
   ]
  },
  {
   "cell_type": "code",
   "execution_count": 35,
   "metadata": {},
   "outputs": [],
   "source": [
    "scale_columns = ['Age','Academic Pressure', 'Study Satisfaction', 'Financial Stress', 'CGPA', 'Work/Study Hours']\n",
    "encoder_columns = ['Gender','City','Sleep Duration','Dietary Habits','Degree','Have you ever had suicidal thoughts ?','Family History of Mental Illness']"
   ]
  },
  {
   "cell_type": "code",
   "execution_count": 37,
   "metadata": {},
   "outputs": [],
   "source": [
    "for col in scale_columns:\n",
    "    if col in data.columns:\n",
    "        data[col] = scaler.fit_transform(data[[col]])"
   ]
  },
  {
   "cell_type": "code",
   "execution_count": 38,
   "metadata": {},
   "outputs": [],
   "source": [
    "for col in encoder_columns:\n",
    "    if col in data.columns:\n",
    "        data[col] = encoder.fit_transform(data[[col]])"
   ]
  },
  {
   "cell_type": "code",
   "execution_count": 70,
   "metadata": {},
   "outputs": [
    {
     "data": {
      "text/html": [
       "<div>\n",
       "<style scoped>\n",
       "    .dataframe tbody tr th:only-of-type {\n",
       "        vertical-align: middle;\n",
       "    }\n",
       "\n",
       "    .dataframe tbody tr th {\n",
       "        vertical-align: top;\n",
       "    }\n",
       "\n",
       "    .dataframe thead th {\n",
       "        text-align: right;\n",
       "    }\n",
       "</style>\n",
       "<table border=\"1\" class=\"dataframe\">\n",
       "  <thead>\n",
       "    <tr style=\"text-align: right;\">\n",
       "      <th></th>\n",
       "      <th>id</th>\n",
       "      <th>Gender</th>\n",
       "      <th>Age</th>\n",
       "      <th>City</th>\n",
       "      <th>Academic Pressure</th>\n",
       "      <th>CGPA</th>\n",
       "      <th>Study Satisfaction</th>\n",
       "      <th>Sleep Duration</th>\n",
       "      <th>Dietary Habits</th>\n",
       "      <th>Degree</th>\n",
       "      <th>Have you ever had suicidal thoughts ?</th>\n",
       "      <th>Work/Study Hours</th>\n",
       "      <th>Financial Stress</th>\n",
       "      <th>Family History of Mental Illness</th>\n",
       "      <th>Depression</th>\n",
       "    </tr>\n",
       "  </thead>\n",
       "  <tbody>\n",
       "    <tr>\n",
       "      <th>0</th>\n",
       "      <td>2</td>\n",
       "      <td>1</td>\n",
       "      <td>1.463053</td>\n",
       "      <td>29</td>\n",
       "      <td>1.345469</td>\n",
       "      <td>0.893389</td>\n",
       "      <td>-0.693609</td>\n",
       "      <td>0</td>\n",
       "      <td>0</td>\n",
       "      <td>3</td>\n",
       "      <td>1</td>\n",
       "      <td>-1.121710</td>\n",
       "      <td>-1.489004</td>\n",
       "      <td>0</td>\n",
       "      <td>1</td>\n",
       "    </tr>\n",
       "    <tr>\n",
       "      <th>1</th>\n",
       "      <td>8</td>\n",
       "      <td>0</td>\n",
       "      <td>-0.371077</td>\n",
       "      <td>2</td>\n",
       "      <td>-0.825725</td>\n",
       "      <td>-1.193591</td>\n",
       "      <td>1.510550</td>\n",
       "      <td>0</td>\n",
       "      <td>1</td>\n",
       "      <td>10</td>\n",
       "      <td>0</td>\n",
       "      <td>-1.121710</td>\n",
       "      <td>-0.793141</td>\n",
       "      <td>1</td>\n",
       "      <td>0</td>\n",
       "    </tr>\n",
       "    <tr>\n",
       "      <th>2</th>\n",
       "      <td>26</td>\n",
       "      <td>1</td>\n",
       "      <td>1.055469</td>\n",
       "      <td>23</td>\n",
       "      <td>-0.101994</td>\n",
       "      <td>-0.425419</td>\n",
       "      <td>1.510550</td>\n",
       "      <td>2</td>\n",
       "      <td>0</td>\n",
       "      <td>5</td>\n",
       "      <td>0</td>\n",
       "      <td>0.496798</td>\n",
       "      <td>-1.489004</td>\n",
       "      <td>1</td>\n",
       "      <td>0</td>\n",
       "    </tr>\n",
       "    <tr>\n",
       "      <th>3</th>\n",
       "      <td>30</td>\n",
       "      <td>0</td>\n",
       "      <td>0.444092</td>\n",
       "      <td>27</td>\n",
       "      <td>-0.101994</td>\n",
       "      <td>-1.404328</td>\n",
       "      <td>-0.693609</td>\n",
       "      <td>1</td>\n",
       "      <td>1</td>\n",
       "      <td>7</td>\n",
       "      <td>1</td>\n",
       "      <td>-0.851959</td>\n",
       "      <td>1.294449</td>\n",
       "      <td>1</td>\n",
       "      <td>1</td>\n",
       "    </tr>\n",
       "    <tr>\n",
       "      <th>4</th>\n",
       "      <td>32</td>\n",
       "      <td>0</td>\n",
       "      <td>-0.167285</td>\n",
       "      <td>10</td>\n",
       "      <td>0.621737</td>\n",
       "      <td>0.322358</td>\n",
       "      <td>0.041111</td>\n",
       "      <td>0</td>\n",
       "      <td>1</td>\n",
       "      <td>17</td>\n",
       "      <td>1</td>\n",
       "      <td>-1.661213</td>\n",
       "      <td>-1.489004</td>\n",
       "      <td>0</td>\n",
       "      <td>0</td>\n",
       "    </tr>\n",
       "  </tbody>\n",
       "</table>\n",
       "</div>"
      ],
      "text/plain": [
       "   id  Gender       Age  City  Academic Pressure      CGPA  \\\n",
       "0   2       1  1.463053    29           1.345469  0.893389   \n",
       "1   8       0 -0.371077     2          -0.825725 -1.193591   \n",
       "2  26       1  1.055469    23          -0.101994 -0.425419   \n",
       "3  30       0  0.444092    27          -0.101994 -1.404328   \n",
       "4  32       0 -0.167285    10           0.621737  0.322358   \n",
       "\n",
       "   Study Satisfaction  Sleep Duration  Dietary Habits  Degree  \\\n",
       "0           -0.693609               0               0       3   \n",
       "1            1.510550               0               1      10   \n",
       "2            1.510550               2               0       5   \n",
       "3           -0.693609               1               1       7   \n",
       "4            0.041111               0               1      17   \n",
       "\n",
       "   Have you ever had suicidal thoughts ?  Work/Study Hours  Financial Stress  \\\n",
       "0                                      1         -1.121710         -1.489004   \n",
       "1                                      0         -1.121710         -0.793141   \n",
       "2                                      0          0.496798         -1.489004   \n",
       "3                                      1         -0.851959          1.294449   \n",
       "4                                      1         -1.661213         -1.489004   \n",
       "\n",
       "   Family History of Mental Illness  Depression  \n",
       "0                                 0           1  \n",
       "1                                 1           0  \n",
       "2                                 1           0  \n",
       "3                                 1           1  \n",
       "4                                 0           0  "
      ]
     },
     "execution_count": 70,
     "metadata": {},
     "output_type": "execute_result"
    }
   ],
   "source": [
    "data.head()"
   ]
  },
  {
   "cell_type": "code",
   "execution_count": 71,
   "metadata": {},
   "outputs": [
    {
     "data": {
      "text/html": [
       "<div>\n",
       "<style scoped>\n",
       "    .dataframe tbody tr th:only-of-type {\n",
       "        vertical-align: middle;\n",
       "    }\n",
       "\n",
       "    .dataframe tbody tr th {\n",
       "        vertical-align: top;\n",
       "    }\n",
       "\n",
       "    .dataframe thead th {\n",
       "        text-align: right;\n",
       "    }\n",
       "</style>\n",
       "<table border=\"1\" class=\"dataframe\">\n",
       "  <thead>\n",
       "    <tr style=\"text-align: right;\">\n",
       "      <th></th>\n",
       "      <th>Gender</th>\n",
       "      <th>Age</th>\n",
       "      <th>City</th>\n",
       "      <th>Academic Pressure</th>\n",
       "      <th>CGPA</th>\n",
       "      <th>Study Satisfaction</th>\n",
       "      <th>Sleep Duration</th>\n",
       "      <th>Dietary Habits</th>\n",
       "      <th>Degree</th>\n",
       "      <th>Have you ever had suicidal thoughts ?</th>\n",
       "      <th>Work/Study Hours</th>\n",
       "      <th>Financial Stress</th>\n",
       "      <th>Family History of Mental Illness</th>\n",
       "      <th>Depression</th>\n",
       "    </tr>\n",
       "  </thead>\n",
       "  <tbody>\n",
       "    <tr>\n",
       "      <th>0</th>\n",
       "      <td>1</td>\n",
       "      <td>1.463053</td>\n",
       "      <td>29</td>\n",
       "      <td>1.345469</td>\n",
       "      <td>0.893389</td>\n",
       "      <td>-0.693609</td>\n",
       "      <td>0</td>\n",
       "      <td>0</td>\n",
       "      <td>3</td>\n",
       "      <td>1</td>\n",
       "      <td>-1.121710</td>\n",
       "      <td>-1.489004</td>\n",
       "      <td>0</td>\n",
       "      <td>1</td>\n",
       "    </tr>\n",
       "    <tr>\n",
       "      <th>1</th>\n",
       "      <td>0</td>\n",
       "      <td>-0.371077</td>\n",
       "      <td>2</td>\n",
       "      <td>-0.825725</td>\n",
       "      <td>-1.193591</td>\n",
       "      <td>1.510550</td>\n",
       "      <td>0</td>\n",
       "      <td>1</td>\n",
       "      <td>10</td>\n",
       "      <td>0</td>\n",
       "      <td>-1.121710</td>\n",
       "      <td>-0.793141</td>\n",
       "      <td>1</td>\n",
       "      <td>0</td>\n",
       "    </tr>\n",
       "    <tr>\n",
       "      <th>2</th>\n",
       "      <td>1</td>\n",
       "      <td>1.055469</td>\n",
       "      <td>23</td>\n",
       "      <td>-0.101994</td>\n",
       "      <td>-0.425419</td>\n",
       "      <td>1.510550</td>\n",
       "      <td>2</td>\n",
       "      <td>0</td>\n",
       "      <td>5</td>\n",
       "      <td>0</td>\n",
       "      <td>0.496798</td>\n",
       "      <td>-1.489004</td>\n",
       "      <td>1</td>\n",
       "      <td>0</td>\n",
       "    </tr>\n",
       "    <tr>\n",
       "      <th>3</th>\n",
       "      <td>0</td>\n",
       "      <td>0.444092</td>\n",
       "      <td>27</td>\n",
       "      <td>-0.101994</td>\n",
       "      <td>-1.404328</td>\n",
       "      <td>-0.693609</td>\n",
       "      <td>1</td>\n",
       "      <td>1</td>\n",
       "      <td>7</td>\n",
       "      <td>1</td>\n",
       "      <td>-0.851959</td>\n",
       "      <td>1.294449</td>\n",
       "      <td>1</td>\n",
       "      <td>1</td>\n",
       "    </tr>\n",
       "    <tr>\n",
       "      <th>4</th>\n",
       "      <td>0</td>\n",
       "      <td>-0.167285</td>\n",
       "      <td>10</td>\n",
       "      <td>0.621737</td>\n",
       "      <td>0.322358</td>\n",
       "      <td>0.041111</td>\n",
       "      <td>0</td>\n",
       "      <td>1</td>\n",
       "      <td>17</td>\n",
       "      <td>1</td>\n",
       "      <td>-1.661213</td>\n",
       "      <td>-1.489004</td>\n",
       "      <td>0</td>\n",
       "      <td>0</td>\n",
       "    </tr>\n",
       "    <tr>\n",
       "      <th>...</th>\n",
       "      <td>...</td>\n",
       "      <td>...</td>\n",
       "      <td>...</td>\n",
       "      <td>...</td>\n",
       "      <td>...</td>\n",
       "      <td>...</td>\n",
       "      <td>...</td>\n",
       "      <td>...</td>\n",
       "      <td>...</td>\n",
       "      <td>...</td>\n",
       "      <td>...</td>\n",
       "      <td>...</td>\n",
       "      <td>...</td>\n",
       "      <td>...</td>\n",
       "    </tr>\n",
       "    <tr>\n",
       "      <th>27896</th>\n",
       "      <td>0</td>\n",
       "      <td>0.240300</td>\n",
       "      <td>24</td>\n",
       "      <td>1.345469</td>\n",
       "      <td>-1.295561</td>\n",
       "      <td>1.510550</td>\n",
       "      <td>0</td>\n",
       "      <td>3</td>\n",
       "      <td>11</td>\n",
       "      <td>1</td>\n",
       "      <td>-0.042705</td>\n",
       "      <td>-1.489004</td>\n",
       "      <td>1</td>\n",
       "      <td>0</td>\n",
       "    </tr>\n",
       "    <tr>\n",
       "      <th>27897</th>\n",
       "      <td>1</td>\n",
       "      <td>0.240300</td>\n",
       "      <td>15</td>\n",
       "      <td>-0.825725</td>\n",
       "      <td>1.185702</td>\n",
       "      <td>0.041111</td>\n",
       "      <td>2</td>\n",
       "      <td>0</td>\n",
       "      <td>25</td>\n",
       "      <td>0</td>\n",
       "      <td>-1.930964</td>\n",
       "      <td>-0.097277</td>\n",
       "      <td>1</td>\n",
       "      <td>0</td>\n",
       "    </tr>\n",
       "    <tr>\n",
       "      <th>27898</th>\n",
       "      <td>1</td>\n",
       "      <td>1.055469</td>\n",
       "      <td>6</td>\n",
       "      <td>-0.101994</td>\n",
       "      <td>-0.710935</td>\n",
       "      <td>0.775831</td>\n",
       "      <td>0</td>\n",
       "      <td>3</td>\n",
       "      <td>22</td>\n",
       "      <td>0</td>\n",
       "      <td>1.306053</td>\n",
       "      <td>-0.793141</td>\n",
       "      <td>0</td>\n",
       "      <td>0</td>\n",
       "    </tr>\n",
       "    <tr>\n",
       "      <th>27899</th>\n",
       "      <td>0</td>\n",
       "      <td>-1.593830</td>\n",
       "      <td>15</td>\n",
       "      <td>1.345469</td>\n",
       "      <td>-0.527389</td>\n",
       "      <td>-0.693609</td>\n",
       "      <td>2</td>\n",
       "      <td>0</td>\n",
       "      <td>11</td>\n",
       "      <td>1</td>\n",
       "      <td>0.766550</td>\n",
       "      <td>1.294449</td>\n",
       "      <td>0</td>\n",
       "      <td>1</td>\n",
       "    </tr>\n",
       "    <tr>\n",
       "      <th>27900</th>\n",
       "      <td>1</td>\n",
       "      <td>0.240300</td>\n",
       "      <td>20</td>\n",
       "      <td>0.621737</td>\n",
       "      <td>1.076934</td>\n",
       "      <td>-1.428328</td>\n",
       "      <td>2</td>\n",
       "      <td>0</td>\n",
       "      <td>7</td>\n",
       "      <td>1</td>\n",
       "      <td>-1.391462</td>\n",
       "      <td>-0.097277</td>\n",
       "      <td>1</td>\n",
       "      <td>1</td>\n",
       "    </tr>\n",
       "  </tbody>\n",
       "</table>\n",
       "<p>27844 rows × 14 columns</p>\n",
       "</div>"
      ],
      "text/plain": [
       "       Gender       Age  City  Academic Pressure      CGPA  \\\n",
       "0           1  1.463053    29           1.345469  0.893389   \n",
       "1           0 -0.371077     2          -0.825725 -1.193591   \n",
       "2           1  1.055469    23          -0.101994 -0.425419   \n",
       "3           0  0.444092    27          -0.101994 -1.404328   \n",
       "4           0 -0.167285    10           0.621737  0.322358   \n",
       "...       ...       ...   ...                ...       ...   \n",
       "27896       0  0.240300    24           1.345469 -1.295561   \n",
       "27897       1  0.240300    15          -0.825725  1.185702   \n",
       "27898       1  1.055469     6          -0.101994 -0.710935   \n",
       "27899       0 -1.593830    15           1.345469 -0.527389   \n",
       "27900       1  0.240300    20           0.621737  1.076934   \n",
       "\n",
       "       Study Satisfaction  Sleep Duration  Dietary Habits  Degree  \\\n",
       "0               -0.693609               0               0       3   \n",
       "1                1.510550               0               1      10   \n",
       "2                1.510550               2               0       5   \n",
       "3               -0.693609               1               1       7   \n",
       "4                0.041111               0               1      17   \n",
       "...                   ...             ...             ...     ...   \n",
       "27896            1.510550               0               3      11   \n",
       "27897            0.041111               2               0      25   \n",
       "27898            0.775831               0               3      22   \n",
       "27899           -0.693609               2               0      11   \n",
       "27900           -1.428328               2               0       7   \n",
       "\n",
       "       Have you ever had suicidal thoughts ?  Work/Study Hours  \\\n",
       "0                                          1         -1.121710   \n",
       "1                                          0         -1.121710   \n",
       "2                                          0          0.496798   \n",
       "3                                          1         -0.851959   \n",
       "4                                          1         -1.661213   \n",
       "...                                      ...               ...   \n",
       "27896                                      1         -0.042705   \n",
       "27897                                      0         -1.930964   \n",
       "27898                                      0          1.306053   \n",
       "27899                                      1          0.766550   \n",
       "27900                                      1         -1.391462   \n",
       "\n",
       "       Financial Stress  Family History of Mental Illness  Depression  \n",
       "0             -1.489004                                 0           1  \n",
       "1             -0.793141                                 1           0  \n",
       "2             -1.489004                                 1           0  \n",
       "3              1.294449                                 1           1  \n",
       "4             -1.489004                                 0           0  \n",
       "...                 ...                               ...         ...  \n",
       "27896         -1.489004                                 1           0  \n",
       "27897         -0.097277                                 1           0  \n",
       "27898         -0.793141                                 0           0  \n",
       "27899          1.294449                                 0           1  \n",
       "27900         -0.097277                                 1           1  \n",
       "\n",
       "[27844 rows x 14 columns]"
      ]
     },
     "execution_count": 71,
     "metadata": {},
     "output_type": "execute_result"
    }
   ],
   "source": [
    "data.drop('id', axis = 1)"
   ]
  },
  {
   "cell_type": "code",
   "execution_count": 41,
   "metadata": {},
   "outputs": [
    {
     "data": {
      "text/plain": [
       "id                                       0\n",
       "Gender                                   0\n",
       "Age                                      0\n",
       "City                                     0\n",
       "Academic Pressure                        0\n",
       "CGPA                                     0\n",
       "Study Satisfaction                       0\n",
       "Sleep Duration                           0\n",
       "Dietary Habits                           0\n",
       "Degree                                   0\n",
       "Have you ever had suicidal thoughts ?    0\n",
       "Work/Study Hours                         0\n",
       "Financial Stress                         0\n",
       "Family History of Mental Illness         0\n",
       "Depression                               0\n",
       "dtype: int64"
      ]
     },
     "execution_count": 41,
     "metadata": {},
     "output_type": "execute_result"
    }
   ],
   "source": [
    "data['Financial Stress'] = data['Financial Stress'].fillna(data['Financial Stress'].median())\n",
    "data.isna().sum()"
   ]
  },
  {
   "cell_type": "code",
   "execution_count": 42,
   "metadata": {},
   "outputs": [
    {
     "name": "stdout",
     "output_type": "stream",
     "text": [
      "<class 'pandas.core.frame.DataFrame'>\n",
      "Index: 27844 entries, 0 to 27900\n",
      "Data columns (total 15 columns):\n",
      " #   Column                                 Non-Null Count  Dtype  \n",
      "---  ------                                 --------------  -----  \n",
      " 0   id                                     27844 non-null  int64  \n",
      " 1   Gender                                 27844 non-null  int64  \n",
      " 2   Age                                    27844 non-null  float64\n",
      " 3   City                                   27844 non-null  int64  \n",
      " 4   Academic Pressure                      27844 non-null  float64\n",
      " 5   CGPA                                   27844 non-null  float64\n",
      " 6   Study Satisfaction                     27844 non-null  float64\n",
      " 7   Sleep Duration                         27844 non-null  int64  \n",
      " 8   Dietary Habits                         27844 non-null  int64  \n",
      " 9   Degree                                 27844 non-null  int64  \n",
      " 10  Have you ever had suicidal thoughts ?  27844 non-null  int64  \n",
      " 11  Work/Study Hours                       27844 non-null  float64\n",
      " 12  Financial Stress                       27844 non-null  float64\n",
      " 13  Family History of Mental Illness       27844 non-null  int64  \n",
      " 14  Depression                             27844 non-null  int64  \n",
      "dtypes: float64(6), int64(9)\n",
      "memory usage: 3.4 MB\n"
     ]
    }
   ],
   "source": [
    "data.info()"
   ]
  },
  {
   "cell_type": "markdown",
   "metadata": {},
   "source": [
    "### __MODEL BUILDING__"
   ]
  },
  {
   "cell_type": "code",
   "execution_count": 43,
   "metadata": {},
   "outputs": [],
   "source": [
    "X = data.drop('Depression', axis = 1)\n",
    "y = data['Depression']"
   ]
  },
  {
   "cell_type": "code",
   "execution_count": 44,
   "metadata": {},
   "outputs": [],
   "source": [
    "X = X.drop('id', axis = 1)"
   ]
  },
  {
   "cell_type": "code",
   "execution_count": 45,
   "metadata": {},
   "outputs": [],
   "source": [
    "from sklearn.model_selection import train_test_split\n",
    "from sklearn.ensemble import RandomForestClassifier, GradientBoostingClassifier, AdaBoostClassifier\n",
    "from sklearn.metrics import confusion_matrix, ConfusionMatrixDisplay, classification_report, f1_score, accuracy_score\n",
    "from sklearn.tree import DecisionTreeClassifier\n",
    "import xgboost as xgb\n",
    "import lightgbm as lgb"
   ]
  },
  {
   "cell_type": "code",
   "execution_count": 46,
   "metadata": {},
   "outputs": [],
   "source": [
    "X_train, X_test, y_train, y_test = train_test_split(X,y, test_size=0.3, random_state=13)"
   ]
  },
  {
   "cell_type": "markdown",
   "metadata": {},
   "source": [
    "#### ___TRAINING MULTIPLE ENSEMBLE MODELS___"
   ]
  },
  {
   "cell_type": "code",
   "execution_count": 47,
   "metadata": {},
   "outputs": [
    {
     "name": "stdout",
     "output_type": "stream",
     "text": [
      "Training Random Forest model...\n",
      "\n",
      "Random Forest Model Evaluation:\n",
      "Classification Report:\n",
      "              precision    recall  f1-score   support\n",
      "\n",
      "           0       0.82      0.79      0.80      3444\n",
      "           1       0.86      0.87      0.86      4910\n",
      "\n",
      "    accuracy                           0.84      8354\n",
      "   macro avg       0.84      0.83      0.83      8354\n",
      "weighted avg       0.84      0.84      0.84      8354\n",
      "\n",
      "F1 Score: 0.8389\n",
      "\n",
      "Training Gradient Boosting model...\n",
      "\n",
      "Gradient Boosting Model Evaluation:\n",
      "Classification Report:\n",
      "              precision    recall  f1-score   support\n",
      "\n",
      "           0       0.82      0.79      0.81      3444\n",
      "           1       0.86      0.88      0.87      4910\n",
      "\n",
      "    accuracy                           0.84      8354\n",
      "   macro avg       0.84      0.84      0.84      8354\n",
      "weighted avg       0.84      0.84      0.84      8354\n",
      "\n",
      "F1 Score: 0.8434\n",
      "\n",
      "Training AdaBoost model...\n",
      "\n",
      "AdaBoost Model Evaluation:\n",
      "Classification Report:\n",
      "              precision    recall  f1-score   support\n",
      "\n",
      "           0       0.83      0.79      0.81      3444\n",
      "           1       0.85      0.89      0.87      4910\n",
      "\n",
      "    accuracy                           0.84      8354\n",
      "   macro avg       0.84      0.84      0.84      8354\n",
      "weighted avg       0.84      0.84      0.84      8354\n",
      "\n",
      "F1 Score: 0.8436\n",
      "\n",
      "Training XGBoost model...\n",
      "\n",
      "XGBoost Model Evaluation:\n",
      "Classification Report:\n",
      "              precision    recall  f1-score   support\n",
      "\n",
      "           0       0.80      0.79      0.80      3444\n",
      "           1       0.85      0.87      0.86      4910\n",
      "\n",
      "    accuracy                           0.83      8354\n",
      "   macro avg       0.83      0.83      0.83      8354\n",
      "weighted avg       0.83      0.83      0.83      8354\n",
      "\n",
      "F1 Score: 0.8340\n",
      "\n",
      "Training LightGBM model...\n",
      "[LightGBM] [Warning] Found whitespace in feature_names, replace with underlines\n",
      "[LightGBM] [Info] Number of positive: 11383, number of negative: 8107\n",
      "[LightGBM] [Info] Auto-choosing row-wise multi-threading, the overhead of testing was 0.000795 seconds.\n",
      "You can set `force_row_wise=true` to remove the overhead.\n",
      "And if memory is not enough, you can set `force_col_wise=true`.\n",
      "[LightGBM] [Info] Total Bins 377\n",
      "[LightGBM] [Info] Number of data points in the train set: 19490, number of used features: 13\n",
      "[LightGBM] [Info] [binary:BoostFromScore]: pavg=0.584043 -> initscore=0.339393\n",
      "[LightGBM] [Info] Start training from score 0.339393\n",
      "\n",
      "LightGBM Model Evaluation:\n",
      "Classification Report:\n",
      "              precision    recall  f1-score   support\n",
      "\n",
      "           0       0.82      0.79      0.81      3444\n",
      "           1       0.86      0.88      0.87      4910\n",
      "\n",
      "    accuracy                           0.84      8354\n",
      "   macro avg       0.84      0.84      0.84      8354\n",
      "weighted avg       0.84      0.84      0.84      8354\n",
      "\n",
      "F1 Score: 0.8422\n",
      "\n"
     ]
    },
    {
     "data": {
      "image/png": "[encoded data removed]",
      "text/plain": [
       "<Figure size 640x480 with 2 Axes>"
      ]
     },
     "metadata": {},
     "output_type": "display_data"
    },
    {
     "data": {
      "image/png": "[encoded data removed]",
      "text/plain": [
       "<Figure size 640x480 with 2 Axes>"
      ]
     },
     "metadata": {},
     "output_type": "display_data"
    },
    {
     "data": {
      "image/png": "[encoded data removed]",
      "text/plain": [
       "<Figure size 640x480 with 2 Axes>"
      ]
     },
     "metadata": {},
     "output_type": "display_data"
    },
    {
     "data": {
      "image/png": "[encoded data removed]",
      "text/plain": [
       "<Figure size 640x480 with 2 Axes>"
      ]
     },
     "metadata": {},
     "output_type": "display_data"
    },
    {
     "data": {
      "image/png": "[encoded data removed]",
      "text/plain": [
       "<Figure size 640x480 with 2 Axes>"
      ]
     },
     "metadata": {},
     "output_type": "display_data"
    }
   ],
   "source": [
    "import matplotlib.pyplot as plt\n",
    "models = [\n",
    "    (\"Random Forest\", RandomForestClassifier()),\n",
    "    (\"Gradient Boosting\", GradientBoostingClassifier()),\n",
    "    (\"AdaBoost\", AdaBoostClassifier()),\n",
    "    (\"XGBoost\", xgb.XGBRFClassifier()),\n",
    "    (\"LightGBM\", lgb.LGBMClassifier())\n",
    "]\n",
    "\n",
    "f1_scores = []  # List to store F1 scores\n",
    "model_names = []  # List to store model names\n",
    "\n",
    "# Loop through models, train, evaluate, and collect F1 scores\n",
    "for name, model in models:\n",
    "    print(f\"Training {name} model...\")\n",
    "\n",
    "    model.fit(X_train, y_train)\n",
    "    y_pred = model.predict(X_test)\n",
    "    \n",
    "    print(f\"\\n{name} Model Evaluation:\")\n",
    "    cm = confusion_matrix(y_test, y_pred)\n",
    "    cm_display = ConfusionMatrixDisplay(confusion_matrix=cm, display_labels=model.classes_)\n",
    "    cm_display.plot()\n",
    "    plt.title({name})\n",
    "\n",
    "    print(\"Classification Report:\")\n",
    "    print(classification_report(y_test, y_pred))\n",
    "\n",
    "    f1 = f1_score(y_test, y_pred, average='weighted')  # Calculate weighted F1 score\n",
    "    f1_scores.append(f1)  # Store F1 score\n",
    "    model_names.append(name)  # Store model name\n",
    "\n",
    "    print(f\"F1 Score: {f1:.4f}\\n\")"
   ]
  },
  {
   "cell_type": "markdown",
   "metadata": {},
   "source": [
    "#### _Assessing the best performing model_"
   ]
  },
  {
   "cell_type": "code",
   "execution_count": 48,
   "metadata": {},
   "outputs": [
    {
     "data": {
      "image/png": "[encoded data removed]",
      "text/plain": [
       "<Figure size 640x480 with 1 Axes>"
      ]
     },
     "metadata": {},
     "output_type": "display_data"
    }
   ],
   "source": [
    "ax = sns.barplot(x=model_names, y=f1_scores, palette='Blues_d')\n",
    "\n",
    "# Add annotations with F1 scores\n",
    "for i, bar in enumerate(ax.patches):\n",
    "    # Get the height of the bar and the position to place the text\n",
    "    height = bar.get_height()\n",
    "    ax.text(bar.get_x() + bar.get_width() / 2, height + 0.01, f'{height:.4f}', \n",
    "            ha='center', va='bottom', fontsize=10, color='black')"
   ]
  },
  {
   "cell_type": "markdown",
   "metadata": {},
   "source": [
    "#### _Grid Search for finding optimal HyperParameters for the best performing model_"
   ]
  },
  {
   "cell_type": "code",
   "execution_count": null,
   "metadata": {},
   "outputs": [],
   "source": [
    "from sklearn.tree import DecisionTreeClassifier\n",
    "from sklearn.model_selection import GridSearchCV\n",
    "model = AdaBoostClassifier(estimator=DecisionTreeClassifier(max_depth=3))\n",
    "\n",
    "# Hyperparameters to tune\n",
    "param_grid = {\n",
    "    'n_estimators': [50, 100, 150 ],\n",
    "    'learning_rate': [0.01, 0.1, 1],\n",
    "}\n",
    "\n",
    "# Grid search for hyperparameter tuning\n",
    "grid_search = GridSearchCV(estimator=model, param_grid=param_grid, cv=5, scoring='accuracy')\n",
    "grid_search.fit(X_train, y_train)\n",
    "\n",
    "print(\"Best hyperparameters:\", grid_search.best_params_)\n",
    "best_model = grid_search.best_estimator_"
   ]
  },
  {
   "cell_type": "markdown",
   "metadata": {},
   "source": [
    "### ___FINAL MODEL___"
   ]
  },
  {
   "cell_type": "code",
   "execution_count": 60,
   "metadata": {},
   "outputs": [],
   "source": [
    "finalmodel = AdaBoostClassifier(estimator=DecisionTreeClassifier(max_depth=3), n_estimators=100, learning_rate=0.1)"
   ]
  },
  {
   "cell_type": "code",
   "execution_count": 74,
   "metadata": {},
   "outputs": [],
   "source": [
    "finalmodel.fit(X_train,y_train)\n",
    "y_pred_final = finalmodel.predict(X_test)\n",
    "f1score_final = f1_score(y_test,y_pred_final)\n",
    "accuracy_final = accuracy_score(y_test, y_pred_final)"
   ]
  },
  {
   "cell_type": "code",
   "execution_count": 75,
   "metadata": {},
   "outputs": [
    {
     "name": "stdout",
     "output_type": "stream",
     "text": [
      "0.8713010332029291\n",
      "0.8464208762269572\n"
     ]
    }
   ],
   "source": [
    "print(f1score_final)\n",
    "print(accuracy_final)"
   ]
  },
  {
   "cell_type": "code",
   "execution_count": 77,
   "metadata": {},
   "outputs": [
    {
     "data": {
      "text/plain": [
       "<sklearn.metrics._plot.confusion_matrix.ConfusionMatrixDisplay at 0x1b485c7c440>"
      ]
     },
     "execution_count": 77,
     "metadata": {},
     "output_type": "execute_result"
    },
    {
     "data": {
      "image/png": "[encoded data removed]",
      "text/plain": [
       "<Figure size 640x480 with 2 Axes>"
      ]
     },
     "metadata": {},
     "output_type": "display_data"
    }
   ],
   "source": [
    "cm_final = confusion_matrix(y_test, y_pred_final)\n",
    "final_cm_ = ConfusionMatrixDisplay(confusion_matrix=cm_final, display_labels=finalmodel.classes_)\n",
    "final_cm_.plot()"
   ]
  },
  {
   "cell_type": "code",
   "execution_count": 66,
   "metadata": {},
   "outputs": [],
   "source": [
    "import pickle\n",
    "with open('grid_search_result.pkl', 'wb') as f:\n",
    "    pickle.dump(grid_search,f)"
   ]
  },
  {
   "cell_type": "code",
   "execution_count": 67,
   "metadata": {},
   "outputs": [],
   "source": [
    "with open('grid_search_result.pkl', 'rb') as f:\n",
    "    grid_search = pickle.load(f)"
   ]
  }
 ],
 "metadata": {
  "kernelspec": {
   "display_name": "Python 3",
   "language": "python",
   "name": "python3"
  },
  "language_info": {
   "codemirror_mode": {
    "name": "ipython",
    "version": 3
   },
   "file_extension": ".py",
   "mimetype": "text/x-python",
   "name": "python",
   "nbconvert_exporter": "python",
   "pygments_lexer": "ipython3",
   "version": "3.12.7"
  }
 },
 "nbformat": 4,
 "nbformat_minor": 4
}
